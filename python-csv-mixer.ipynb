{
 "cells": [
  {
   "cell_type": "code",
   "execution_count": 1,
   "metadata": {},
   "outputs": [],
   "source": [
    "import numpy as np\n",
    "import pandas as pd\n",
    "from scipy.linalg import block_diag"
   ]
  },
  {
   "cell_type": "code",
   "execution_count": 2,
   "metadata": {},
   "outputs": [],
   "source": [
    "def remove_s(s_num):\n",
    "    return int(s_num[1:])"
   ]
  },
  {
   "cell_type": "code",
   "execution_count": 5,
   "metadata": {},
   "outputs": [],
   "source": [
    "canvas_df = (pd.read_csv(\"./data/canvas.csv\", names=[\"s_number\"])).applymap(remove_s)\n",
    "canvas_df = canvas_df.astype({\"s_number\":np.int})\n",
    "# print(canvas_df.head())\n",
    "# print(canvas_df.count())"
   ]
  },
  {
   "cell_type": "code",
   "execution_count": 6,
   "metadata": {},
   "outputs": [],
   "source": [
    "data_type_dict = {\"s_number\":np.int, \"house\":np.str, \"do_group\":np.str}"
   ]
  },
  {
   "cell_type": "code",
   "execution_count": 7,
   "metadata": {},
   "outputs": [],
   "source": [
    "house_df = pd.read_csv(\"./data/houses.csv\", names=list(data_type_dict.keys())).drop_duplicates()\n",
    "house_df = house_df[~house_df[\"s_number\"].isna()]\n",
    "house_df = house_df.astype(data_type_dict)"
   ]
  },
  {
   "cell_type": "code",
   "execution_count": 8,
   "metadata": {},
   "outputs": [],
   "source": [
    "s_numbers = list(canvas_df[\"s_number\"])\n",
    "student_house_df = house_df[house_df[\"s_number\"].isin(s_numbers)]\n",
    "# print(student_house_df.count())"
   ]
  },
  {
   "cell_type": "code",
   "execution_count": 9,
   "metadata": {},
   "outputs": [],
   "source": [
    "rogue_house = [\"GUEST\", \"nan\"]\n",
    "\n",
    "do_group_df = student_house_df[student_house_df[\"do_group\"] != \"nan\"]\n",
    "house_df = student_house_df[~student_house_df[\"house\"].isin(rogue_house)]\n",
    "others_df = student_house_df[student_house_df[\"house\"].isin(rogue_house)]\n",
    "\n",
    "# print(do_group_df.head(), \"\\n\", do_group_df.count(), end=\"\\n\")\n",
    "# print(house_df.head(), \"\\n\", house_df.count(), end=\"\\n\")\n",
    "# print(others_df.head(), \"\\n\", others_df.count(), end=\"\\n\")"
   ]
  },
  {
   "cell_type": "code",
   "execution_count": 10,
   "metadata": {},
   "outputs": [],
   "source": [
    "houses = house_df[\"house\"].unique()\n",
    "do_groups = do_group_df[\"do_group\"].unique()\n",
    "\n",
    "# print(houses)\n",
    "# print(do_groups)"
   ]
  },
  {
   "cell_type": "code",
   "execution_count": 17,
   "metadata": {},
   "outputs": [],
   "source": [
    "def rotate(arr):\n",
    "    return np.append([arr[-1]], arr[0:-1])"
   ]
  },
  {
   "cell_type": "code",
   "execution_count": 18,
   "metadata": {},
   "outputs": [],
   "source": [
    "def gen_matrix(in_df, index, name):\n",
    "    matrix = np.zeros((0,0), dtype = np.int)\n",
    "    for iterator in index:\n",
    "        part_of_df = in_df[in_df[name] == iterator]\n",
    "        count = part_of_df.shape[0]\n",
    "        size = (count, count)\n",
    "        sub_matrix = np.zeros(size, dtype=np.int)\n",
    "        \n",
    "        connecting_array = np.arange(2, min(count, 9))\n",
    "        np.random.shuffle(connecting_array)\n",
    "        connecting_array = np.concatenate(([1], connecting_array))\n",
    "        \n",
    "        for i in range(0, min(count, 8)):\n",
    "            sub_matrix[i]\n",
    "#             np.fill_diagonal(sub_matrix[:, (i+1):], connecting_array)\n",
    "#             connecting_array = rotate(connecting_array)\n",
    "        \n",
    "        matrix = block_diag(matrix, sub_matrix)\n",
    "    return matrix\n",
    "do_group_connections = gen_matrix(do_group_df, do_groups, \"do_group\")\n",
    "house_connections = gen_matrix(house_df, houses, \"house\")"
   ]
  },
  {
   "cell_type": "code",
   "execution_count": 20,
   "metadata": {},
   "outputs": [
    {
     "name": "stdout",
     "output_type": "stream",
     "text": [
      "[[0 1 7 6 3 5 8 2 4 0 0]\n",
      " [0 0 4 1 7 6 3 5 8 2 0]\n",
      " [0 0 0 2 4 1 7 6 3 5 8]\n",
      " [0 0 0 0 8 2 4 1 7 6 3]\n",
      " [0 0 0 0 0 5 8 2 4 1 7]\n",
      " [0 0 0 0 0 0 3 5 8 2 4]\n",
      " [0 0 0 0 0 0 0 6 3 5 8]\n",
      " [0 0 0 0 0 0 0 0 7 6 3]\n",
      " [0 0 0 0 0 0 0 0 0 1 7]\n",
      " [0 0 0 0 0 0 0 0 0 0 4]\n",
      " [0 0 0 0 0 0 0 0 0 0 0]]\n",
      "[[0 1 4 7 8 3 5 2 6 0 0 0 0]\n",
      " [0 0 6 1 4 7 8 3 5 2 0 0 0]\n",
      " [0 0 0 2 6 1 4 7 8 3 5 0 0]\n",
      " [0 0 0 0 5 2 6 1 4 7 8 3 0]\n",
      " [0 0 0 0 0 3 5 2 6 1 4 7 8]\n",
      " [0 0 0 0 0 0 8 3 5 2 6 1 4]\n",
      " [0 0 0 0 0 0 0 7 8 3 5 2 6]\n",
      " [0 0 0 0 0 0 0 0 4 7 8 3 5]\n",
      " [0 0 0 0 0 0 0 0 0 1 4 7 8]\n",
      " [0 0 0 0 0 0 0 0 0 0 6 1 4]\n",
      " [0 0 0 0 0 0 0 0 0 0 0 2 6]\n",
      " [0 0 0 0 0 0 0 0 0 0 0 0 5]\n",
      " [0 0 0 0 0 0 0 0 0 0 0 0 0]]\n"
     ]
    }
   ],
   "source": [
    "print(do_group_connections[0:11, 0:11])\n",
    "print(do_group_connections[11:24, 11:24])"
   ]
  },
  {
   "cell_type": "code",
   "execution_count": null,
   "metadata": {},
   "outputs": [],
   "source": []
  }
 ],
 "metadata": {
  "kernelspec": {
   "display_name": "Python 3",
   "language": "python",
   "name": "python3"
  },
  "language_info": {
   "codemirror_mode": {
    "name": "ipython",
    "version": 3
   },
   "file_extension": ".py",
   "mimetype": "text/x-python",
   "name": "python",
   "nbconvert_exporter": "python",
   "pygments_lexer": "ipython3",
   "version": "3.8.5"
  }
 },
 "nbformat": 4,
 "nbformat_minor": 4
}
